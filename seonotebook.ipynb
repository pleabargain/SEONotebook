{
 "cells": [
  {
   "cell_type": "markdown",
   "metadata": {},
   "source": [
    "# SEO Notebook"
   ]
  },
  {
   "cell_type": "code",
   "execution_count": 1,
   "metadata": {
    "collapsed": false
   },
   "outputs": [
    {
     "data": {
      "text/plain": [
       "'A framework for conducting SEO investigations, using Google Spreadsheets for I/O.'"
      ]
     },
     "execution_count": 1,
     "metadata": {},
     "output_type": "execute_result"
    }
   ],
   "source": [
    "\"\"\"A framework for conducting SEO investigations, using Google Spreadsheets for I/O.\"\"\""
   ]
  },
  {
   "cell_type": "code",
   "execution_count": 3,
   "metadata": {
    "collapsed": false
   },
   "outputs": [],
   "source": [
    "import notebook_finder    # Allows .ipynb files to be loaded like filename.py modules\n",
    "import goodsheet          # Handles OAuth login for all relevant Google services\n",
    "from imp import reload    # Keeps in-memory functions reflecting your pipulate.ipynb edits\n",
    "import shelve, requests"
   ]
  },
  {
   "cell_type": "code",
   "execution_count": 3,
   "metadata": {
    "collapsed": true
   },
   "outputs": [],
   "source": [
    "rows_to_batch = 10\n",
    "cache_html = True\n",
    "google_sheet_name = 'Top 5 Search Pages from each Property'\n",
    "google_sheet_tab  = 'Sheet1'"
   ]
  },
  {
   "cell_type": "code",
   "execution_count": 4,
   "metadata": {
    "collapsed": false
   },
   "outputs": [
    {
     "name": "stdout",
     "output_type": "stream",
     "text": [
      "Pipulating chunk 5 of A2:D11 (1)...\n",
      "Row: 2 of 41\n",
      "Row: 3 of 41\n",
      "Row: 4 of 41\n",
      "Row: 5 of 41\n",
      "Row: 6 of 41\n",
      "Row: 7 of 41\n",
      "Row: 8 of 41\n",
      "Row: 9 of 41\n",
      "Row: 10 of 41\n",
      "Row: 11 of 41\n",
      "Range updated.\n",
      "Pipulating chunk 5 of A12:D21 (2)...\n",
      "Row: 12 of 41\n",
      "Row: 13 of 41\n",
      "Row: 14 of 41\n",
      "Row: 15 of 41\n",
      "Row: 16 of 41\n",
      "Row: 17 of 41\n",
      "Row: 18 of 41\n",
      "Row: 19 of 41\n",
      "Row: 20 of 41\n",
      "Row: 21 of 41\n",
      "Range updated.\n",
      "Pipulating chunk 5 of A22:D31 (3)...\n",
      "Row: 22 of 41\n",
      "Row: 23 of 41\n",
      "Row: 24 of 41\n",
      "Row: 25 of 41\n",
      "Row: 26 of 41\n",
      "Row: 27 of 41\n",
      "Row: 28 of 41\n",
      "Row: 29 of 41\n",
      "Row: 30 of 41\n",
      "Row: 31 of 41\n",
      "Range updated.\n",
      "Pipulating chunk 5 of A32:D41 (4)...\n",
      "Row: 32 of 41\n",
      "Row: 33 of 41\n",
      "Problem in Pipulate function: title\n"
     ]
    },
    {
     "ename": "SystemExit",
     "evalue": "",
     "output_type": "error",
     "traceback": [
      "An exception has occurred, use %tb to see the full traceback.\n",
      "\u001b[1;31mSystemExit\u001b[0m\n"
     ]
    },
    {
     "name": "stderr",
     "output_type": "stream",
     "text": [
      "To exit: use 'exit', 'quit', or Ctrl-D.\n"
     ]
    }
   ],
   "source": [
    "if __name__ == '__main__':\n",
    "    import pipulate\n",
    "    reload(pipulate)\n",
    "    import pipulate # 2nd import intentional\n",
    "    bad_api_message = \"Can't reach Google APIs. Please try again later.\"\n",
    "    \n",
    "    # Test our connection to the spreadsheet and get its size.\n",
    "    try:\n",
    "        worksheet = goodsheet.connect.open(google_sheet_name).worksheet(google_sheet_tab)\n",
    "        rows = worksheet.row_count\n",
    "        cols = worksheet.col_count\n",
    "        end_range = worksheet.get_addr_int(rows, cols)\n",
    "        col_count = worksheet.col_count\n",
    "    except:\n",
    "        print(bad_api_message)\n",
    "        raise SystemExit()\n",
    "\n",
    "    # Create a dictionary of name-addressable functions from the Pipulate module.\n",
    "    pipulate_funcs = [x for x in dir(pipulate) if x[0] is not '_']\n",
    "    func_dict = {x.lower():eval('pipulate.%s' % x) for x in pipulate_funcs}\n",
    "\n",
    "    # Row 1 contains column name values and may name pipulate functions.\n",
    "    row1_range = 'A1:%s' % worksheet.get_addr_int(1, col_count)\n",
    "    cell_range = worksheet.range(row1_range)\n",
    "    col_names = [x.value.lower() for x in cell_range]\n",
    "\n",
    "    # Split spreadsheet into a series of ranges (not yet in Excel-like A2:B10 notation).\n",
    "    chunk_ranges = [(x+1, x+rows_to_batch) for x in list(range(rows)) if x%rows_to_batch == 0]\n",
    "    \n",
    "    # Every range chunk becomes its own chunk_range for batch updates.\n",
    "    for chunk_dex, (row_start, row_end) in enumerate(chunk_ranges):\n",
    "\n",
    "        # Create Excel-ranges for each chunk\n",
    "        top_left = worksheet.get_addr_int(row_start+1, 1)\n",
    "        lower_right = worksheet.get_addr_int(row_end+1, cols)\n",
    "        range_string = \"%s:%s\" % (top_left, lower_right)\n",
    "\n",
    "        # If it's the last chunk, beware odd number of rows!\n",
    "        if chunk_dex+1 == len(chunk_ranges):\n",
    "            range_string = \"%s:%s\" % (top_left, end_range)\n",
    "        print(\"Pipulating chunk %s of %s (%s)...\" % (len(chunk_ranges), range_string, chunk_dex+1))\n",
    "\n",
    "        # We create a chunk_range for the chunk for both reading and writing-back values.\n",
    "        try:\n",
    "            chunk_range = worksheet.range(range_string)\n",
    "        except:\n",
    "            print(bad_api_message)\n",
    "\n",
    "        # Now, we step through each cell in the current chunk.\n",
    "        row_dict = {} #pipulation object\n",
    "        for cell_dex, acell in enumerate(chunk_range):\n",
    "            row, col, val = acell.row, acell.col, acell.value\n",
    "            # Populate row_dict with key/value pairs for every column of row.\n",
    "            row_dict[col_names[col-1]] = val\n",
    "            if col%col_count == 0: #last row of column / ready to pipulate!\n",
    "                print(\"Row: %s of %s\" % (row, rows))\n",
    "                response = None\n",
    "                # Why fetch the HTML for a URL more than once, if you don't have to?\n",
    "                if 'url' in row_dict:\n",
    "                    with shelve.open('urls') as urls:\n",
    "                        if cache_html == True and row_dict['url'] in urls.keys():\n",
    "                            response = urls[row_dict['url']]\n",
    "                        else:\n",
    "                            try:\n",
    "                                response = requests.get(row_dict['url'])\n",
    "                                urls[row_dict['url']] = response\n",
    "                            except requests.exceptions.RequestException as e:\n",
    "                                print(\"HTTP request failed. Check URL.\")\n",
    "                                raise SystemExit()\n",
    "                        # We make ENTIRE response object is made available to Pipulate functions.\n",
    "                        row_dict['response'] = response\n",
    "                # To pipulate a row, we step through the row_dict that now contains all data from row.\n",
    "                for key, val in row_dict.items():\n",
    "                    if not val: #only pipulate empty cells\n",
    "                        # Only process columns that use Pipulate function names.\n",
    "                        if key in [x.lower() for x in dir(pipulate) if x[0] is not '_']:\n",
    "                            try:\n",
    "                                success_code, new_text = func_dict[key](**row_dict) # SHAZAM! Think about it.\n",
    "                            except:\n",
    "                                print('Problem in Pipulate function: %s' % key)\n",
    "                                raise SystemExit()\n",
    "                            # Remember, we are no longer actually ON the cell that we need to update, so we\n",
    "                            # figure out which cell should updated with the value we just produced.\n",
    "                            row_start = cell_dex-cols+1\n",
    "                            func_dex = col_names.index(key)\n",
    "                            cell_to_update = row_start + func_dex\n",
    "                            chunk_range[cell_to_update].value = new_text #updates the in-memory object\n",
    "                            row_dict = {} # Blank the now-used row_dict just for good measure\n",
    "        try:\n",
    "            # Batch update Google Sheets with the modified chunk_range.\n",
    "            worksheet.update_cells(chunk_range)\n",
    "            print(\"Range updated.\")\n",
    "        except:\n",
    "            print(bad_api_message)\n",
    "    print(\"Pipulation complete!\") #do a little dance\n"
   ]
  },
  {
   "cell_type": "code",
   "execution_count": null,
   "metadata": {
    "collapsed": true
   },
   "outputs": [],
   "source": []
  }
 ],
 "metadata": {
  "kernelspec": {
   "display_name": "Python 3",
   "language": "python",
   "name": "python3"
  },
  "language_info": {
   "codemirror_mode": {
    "name": "ipython",
    "version": 3
   },
   "file_extension": ".py",
   "mimetype": "text/x-python",
   "name": "python",
   "nbconvert_exporter": "python",
   "pygments_lexer": "ipython3",
   "version": "3.5.2"
  }
 },
 "nbformat": 4,
 "nbformat_minor": 0
}
